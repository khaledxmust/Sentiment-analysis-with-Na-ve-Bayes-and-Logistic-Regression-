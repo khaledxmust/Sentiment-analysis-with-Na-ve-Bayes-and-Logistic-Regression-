{
 "cells": [
  {
   "cell_type": "code",
   "execution_count": 10,
   "metadata": {},
   "outputs": [
    {
     "name": "stdout",
     "output_type": "stream",
     "text": [
      "2992\n"
     ]
    }
   ],
   "source": [
    "import nltk\n",
    "import numpy as np\n",
    "import pandas as pd\n",
    "from sklearn import metrics\n",
    "from sklearn import naive_bayes\n",
    "from sklearn.linear_model import LogisticRegression\n",
    "from sklearn.model_selection import train_test_split\n",
    "from sklearn.feature_extraction.text import CountVectorizer\n",
    "from sklearn.feature_extraction.text import TfidfVectorizer\n",
    "\n",
    "my_columns = ['label', 'tweet']\n",
    "Data = pd.read_csv(\"Airline-Sentiment.csv\", names=my_columns, encoding = \"ISO-8859-1\")\n",
    "Data = Data.drop(0)\n",
    "trData,tsData,trLabels,tsLabels = train_test_split(Data[\"tweet\"],Data['label'], test_size=0.3,random_state=0)"
   ]
  },
  {
   "cell_type": "code",
   "execution_count": 2,
   "metadata": {},
   "outputs": [
    {
     "name": "stdout",
     "output_type": "stream",
     "text": [
      "accuracy = 80.06681514476614%\n",
      "              precision    recall  f1-score   support\n",
      "\n",
      "    negative       0.73      0.91      0.81       321\n",
      "     neutral       0.78      0.55      0.64       291\n",
      "    positive       0.92      0.93      0.93       286\n",
      "\n",
      "   micro avg       0.80      0.80      0.80       898\n",
      "   macro avg       0.81      0.80      0.79       898\n",
      "weighted avg       0.80      0.80      0.79       898\n",
      "\n"
     ]
    }
   ],
   "source": [
    "#1\n",
    "vectorizer = CountVectorizer().fit(trData)\n",
    "trData_vectorized = vectorizer.transform(trData)\n",
    "tsData_vectorized = vectorizer.transform(tsData)\n",
    "\n",
    "Clf = naive_bayes.MultinomialNB()\n",
    "Clf.fit(trData_vectorized,trLabels)\n",
    "Pred = Clf.predict(tsData_vectorized)\n",
    "acc = metrics.accuracy_score(tsLabels,Pred)\n",
    "print ('accuracy = '+str(acc*100)+'%')\n",
    "print (metrics.classification_report(tsLabels,Pred))"
   ]
  },
  {
   "cell_type": "code",
   "execution_count": 3,
   "metadata": {},
   "outputs": [
    {
     "name": "stdout",
     "output_type": "stream",
     "text": [
      "accuracy = 77.39420935412026%\n",
      "              precision    recall  f1-score   support\n",
      "\n",
      "    negative       0.71      0.90      0.79       321\n",
      "     neutral       0.75      0.51      0.60       291\n",
      "    positive       0.88      0.91      0.89       286\n",
      "\n",
      "   micro avg       0.77      0.77      0.77       898\n",
      "   macro avg       0.78      0.77      0.76       898\n",
      "weighted avg       0.78      0.77      0.76       898\n",
      "\n"
     ]
    }
   ],
   "source": [
    "#2\n",
    "vectorizer = TfidfVectorizer().fit(trData)\n",
    "trData_vectorized = vectorizer.transform(trData)\n",
    "tsData_vectorized = vectorizer.transform(tsData)\n",
    "\n",
    "Clf = naive_bayes.MultinomialNB()\n",
    "Clf.fit(trData_vectorized,trLabels)\n",
    "Pred = Clf.predict(tsData_vectorized)\n",
    "acc = metrics.accuracy_score(tsLabels,Pred)\n",
    "print ('accuracy = '+str(acc*100)+'%')\n",
    "print (metrics.classification_report(tsLabels,Pred))"
   ]
  },
  {
   "cell_type": "code",
   "execution_count": 4,
   "metadata": {},
   "outputs": [
    {
     "name": "stdout",
     "output_type": "stream",
     "text": [
      "accuracy = 79.51002227171492%\n",
      "              precision    recall  f1-score   support\n",
      "\n",
      "    negative       0.72      0.91      0.80       321\n",
      "     neutral       0.78      0.56      0.65       291\n",
      "    positive       0.92      0.91      0.91       286\n",
      "\n",
      "   micro avg       0.80      0.80      0.80       898\n",
      "   macro avg       0.80      0.79      0.79       898\n",
      "weighted avg       0.80      0.80      0.79       898\n",
      "\n"
     ]
    }
   ],
   "source": [
    "#3\n",
    "vectorizer = CountVectorizer(ngram_range= (1,2)).fit(trData)\n",
    "trData_vectorized = vectorizer.transform(trData)\n",
    "tsData_vectorized = vectorizer.transform(tsData)\n",
    "\n",
    "Clf = naive_bayes.MultinomialNB()\n",
    "Clf.fit(trData_vectorized,trLabels)\n",
    "Pred = Clf.predict(tsData_vectorized)\n",
    "acc = metrics.accuracy_score(tsLabels,Pred)\n",
    "print ('accuracy = '+str(acc*100)+'%')\n",
    "print (metrics.classification_report(tsLabels,Pred))"
   ]
  },
  {
   "cell_type": "code",
   "execution_count": 6,
   "metadata": {},
   "outputs": [
    {
     "name": "stdout",
     "output_type": "stream",
     "text": [
      "accuracy = 81.51447661469933%\n",
      "              precision    recall  f1-score   support\n",
      "\n",
      "    negative       0.82      0.79      0.80       321\n",
      "     neutral       0.72      0.71      0.72       291\n",
      "    positive       0.90      0.95      0.93       286\n",
      "\n",
      "   micro avg       0.82      0.82      0.82       898\n",
      "   macro avg       0.81      0.82      0.81       898\n",
      "weighted avg       0.81      0.82      0.81       898\n",
      "\n"
     ]
    },
    {
     "name": "stderr",
     "output_type": "stream",
     "text": [
      "C:\\Users\\khled\\AppData\\Local\\Continuum\\anaconda3\\lib\\site-packages\\sklearn\\linear_model\\logistic.py:433: FutureWarning: Default solver will be changed to 'lbfgs' in 0.22. Specify a solver to silence this warning.\n",
      "  FutureWarning)\n",
      "C:\\Users\\khled\\AppData\\Local\\Continuum\\anaconda3\\lib\\site-packages\\sklearn\\linear_model\\logistic.py:460: FutureWarning: Default multi_class will be changed to 'auto' in 0.22. Specify the multi_class option to silence this warning.\n",
      "  \"this warning.\", FutureWarning)\n"
     ]
    }
   ],
   "source": [
    "#4\n",
    "vectorizer = CountVectorizer().fit(trData)\n",
    "trData_vectorized = vectorizer.transform(trData)\n",
    "tsData_vectorized = vectorizer.transform(tsData)\n",
    "\n",
    "Clf = LogisticRegression()\n",
    "Clf.fit(trData_vectorized,trLabels)\n",
    "Pred = Clf.predict(tsData_vectorized)\n",
    "acc = metrics.accuracy_score(tsLabels,Pred)\n",
    "print ('accuracy = '+str(acc*100)+'%')\n",
    "print (metrics.classification_report(tsLabels,Pred))"
   ]
  },
  {
   "cell_type": "code",
   "execution_count": 8,
   "metadata": {},
   "outputs": [
    {
     "name": "stdout",
     "output_type": "stream",
     "text": [
      "accuracy = 80.17817371937639%\n",
      "              precision    recall  f1-score   support\n",
      "\n",
      "    negative       0.76      0.83      0.79       321\n",
      "     neutral       0.74      0.62      0.67       291\n",
      "    positive       0.89      0.97      0.93       286\n",
      "\n",
      "   micro avg       0.80      0.80      0.80       898\n",
      "   macro avg       0.80      0.80      0.80       898\n",
      "weighted avg       0.80      0.80      0.80       898\n",
      "\n"
     ]
    },
    {
     "name": "stderr",
     "output_type": "stream",
     "text": [
      "C:\\Users\\khled\\AppData\\Local\\Continuum\\anaconda3\\lib\\site-packages\\sklearn\\linear_model\\logistic.py:433: FutureWarning: Default solver will be changed to 'lbfgs' in 0.22. Specify a solver to silence this warning.\n",
      "  FutureWarning)\n",
      "C:\\Users\\khled\\AppData\\Local\\Continuum\\anaconda3\\lib\\site-packages\\sklearn\\linear_model\\logistic.py:460: FutureWarning: Default multi_class will be changed to 'auto' in 0.22. Specify the multi_class option to silence this warning.\n",
      "  \"this warning.\", FutureWarning)\n"
     ]
    }
   ],
   "source": [
    "#5\n",
    "vectorizer = TfidfVectorizer().fit(trData)\n",
    "trData_vectorized = vectorizer.transform(trData)\n",
    "tsData_vectorized = vectorizer.transform(tsData)\n",
    "\n",
    "Clf = LogisticRegression()\n",
    "Clf.fit(trData_vectorized,trLabels)\n",
    "Pred = Clf.predict(tsData_vectorized)\n",
    "acc = metrics.accuracy_score(tsLabels,Pred)\n",
    "print ('accuracy = '+str(acc*100)+'%')\n",
    "print (metrics.classification_report(tsLabels,Pred))"
   ]
  },
  {
   "cell_type": "code",
   "execution_count": 7,
   "metadata": {},
   "outputs": [
    {
     "name": "stderr",
     "output_type": "stream",
     "text": [
      "C:\\Users\\khled\\AppData\\Local\\Continuum\\anaconda3\\lib\\site-packages\\sklearn\\linear_model\\logistic.py:433: FutureWarning: Default solver will be changed to 'lbfgs' in 0.22. Specify a solver to silence this warning.\n",
      "  FutureWarning)\n",
      "C:\\Users\\khled\\AppData\\Local\\Continuum\\anaconda3\\lib\\site-packages\\sklearn\\linear_model\\logistic.py:460: FutureWarning: Default multi_class will be changed to 'auto' in 0.22. Specify the multi_class option to silence this warning.\n",
      "  \"this warning.\", FutureWarning)\n"
     ]
    },
    {
     "name": "stdout",
     "output_type": "stream",
     "text": [
      "accuracy = 82.73942093541203%\n",
      "              precision    recall  f1-score   support\n",
      "\n",
      "    negative       0.85      0.79      0.82       321\n",
      "     neutral       0.73      0.75      0.74       291\n",
      "    positive       0.90      0.95      0.92       286\n",
      "\n",
      "   micro avg       0.83      0.83      0.83       898\n",
      "   macro avg       0.83      0.83      0.83       898\n",
      "weighted avg       0.83      0.83      0.83       898\n",
      "\n"
     ]
    }
   ],
   "source": [
    "#6\n",
    "vectorizer = CountVectorizer(ngram_range= (1,2)).fit(trData)\n",
    "trData_vectorized = vectorizer.transform(trData)\n",
    "tsData_vectorized = vectorizer.transform(tsData)\n",
    "\n",
    "Clf = LogisticRegression()\n",
    "Clf.fit(trData_vectorized,trLabels)\n",
    "Pred = Clf.predict(tsData_vectorized)\n",
    "acc = metrics.accuracy_score(tsLabels,Pred)\n",
    "print ('accuracy = '+str(acc*100)+'%')\n",
    "print (metrics.classification_report(tsLabels,Pred))"
   ]
  }
 ],
 "metadata": {
  "kernelspec": {
   "display_name": "Python 3",
   "language": "python",
   "name": "python3"
  },
  "language_info": {
   "codemirror_mode": {
    "name": "ipython",
    "version": 3
   },
   "file_extension": ".py",
   "mimetype": "text/x-python",
   "name": "python",
   "nbconvert_exporter": "python",
   "pygments_lexer": "ipython3",
   "version": "3.7.0"
  }
 },
 "nbformat": 4,
 "nbformat_minor": 2
}
